{
  "nbformat": 4,
  "nbformat_minor": 0,
  "metadata": {
    "colab": {
      "name": "Visualisasi Data Praktikum Pasut.ipynb",
      "provenance": []
    },
    "kernelspec": {
      "name": "python3",
      "display_name": "Python 3"
    }
  },
  "cells": [
    {
      "cell_type": "markdown",
      "metadata": {
        "id": "wGOkYs1Q-8cx"
      },
      "source": [
        "### Intro\n",
        "Notebook ini dibuat untuk memvisualisasikan data-data hasil dari praktikum pasang surut. Visualisasi yang dilakukan adalah membuat **bar plot**.\n",
        "\n",
        "**Bagaimana menggunakan notebook ini?**\n",
        "<br>Kalian cukup menyesuaikan data yang disimpan pada variabel `label_data` dan `nilai_f`."
      ]
    },
    {
      "cell_type": "markdown",
      "metadata": {
        "id": "4vT-cYG4_j4u"
      },
      "source": [
        "### Import library"
      ]
    },
    {
      "cell_type": "code",
      "metadata": {
        "id": "MRJRtZgk_m2B"
      },
      "source": [
        "import numpy as np\n",
        "import pandas as pd\n",
        "import matplotlib.pyplot as plt\n",
        "from matplotlib import rcParams"
      ],
      "execution_count": 1,
      "outputs": []
    },
    {
      "cell_type": "markdown",
      "metadata": {
        "id": "x084ozMeHJ8B"
      },
      "source": [
        "### Persiapan Data\n",
        "Atur `label_data` dan `nilai_f` sesuai yang kalian miliki. Pada contoh ini, digunakan nilai Formzhal yang diperoleh dari tiga sumber. Jika kalian memiliki lebih dari 3 sumber, maka dapat menambah *list* pada variabel `label_data` dan `nilai_f`."
      ]
    },
    {
      "cell_type": "code",
      "metadata": {
        "id": "FtrD4wqQ-1FX",
        "outputId": "4b9322f6-5151-40b7-9604-4e97aa7617c5",
        "colab": {
          "base_uri": "https://localhost:8080/",
          "height": 171
        }
      },
      "source": [
        "# persiapan data: data nilai Formzhal dari berbagai sumber\n",
        "label_data = ['29 hari\\n dengan tabel','29 hari\\n tanpa tabel','Penulis paper 1'] # jika ada sumber lain, silahkan ditambahkan seperti format yg telah ada\n",
        "nilai_f = [1.2, 1.1, 0.9] # nilai f dari 29 dgn tabel, 29 tanpa tabel, penulis paper 1\n",
        "\n",
        "# membuat tabel dari data\n",
        "df = pd.DataFrame({'Sumber':label_data,\n",
        "                   'Nilai Formzhal':nilai_f})\n",
        "\n",
        "# set index\n",
        "df.set_index('Sumber', inplace=True)\n",
        "\n",
        "df"
      ],
      "execution_count": 20,
      "outputs": [
        {
          "output_type": "execute_result",
          "data": {
            "text/html": [
              "<div>\n",
              "<style scoped>\n",
              "    .dataframe tbody tr th:only-of-type {\n",
              "        vertical-align: middle;\n",
              "    }\n",
              "\n",
              "    .dataframe tbody tr th {\n",
              "        vertical-align: top;\n",
              "    }\n",
              "\n",
              "    .dataframe thead th {\n",
              "        text-align: right;\n",
              "    }\n",
              "</style>\n",
              "<table border=\"1\" class=\"dataframe\">\n",
              "  <thead>\n",
              "    <tr style=\"text-align: right;\">\n",
              "      <th></th>\n",
              "      <th>Nilai Formzhal</th>\n",
              "    </tr>\n",
              "    <tr>\n",
              "      <th>Sumber</th>\n",
              "      <th></th>\n",
              "    </tr>\n",
              "  </thead>\n",
              "  <tbody>\n",
              "    <tr>\n",
              "      <th>29 hari\\n dengan tabel</th>\n",
              "      <td>1.2</td>\n",
              "    </tr>\n",
              "    <tr>\n",
              "      <th>29 hari\\n tanpa tabel</th>\n",
              "      <td>1.1</td>\n",
              "    </tr>\n",
              "    <tr>\n",
              "      <th>Penulis paper 1</th>\n",
              "      <td>0.9</td>\n",
              "    </tr>\n",
              "  </tbody>\n",
              "</table>\n",
              "</div>"
            ],
            "text/plain": [
              "                        Nilai Formzhal\n",
              "Sumber                                \n",
              "29 hari\\n dengan tabel             1.2\n",
              "29 hari\\n tanpa tabel              1.1\n",
              "Penulis paper 1                    0.9"
            ]
          },
          "metadata": {
            "tags": []
          },
          "execution_count": 20
        }
      ]
    },
    {
      "cell_type": "markdown",
      "metadata": {
        "id": "YVKQB5CkHMNK"
      },
      "source": [
        "### Plot Data\n",
        "Grafik yang dibuat boleh di-costum, dan tidak harus sama dengan contoh disini."
      ]
    },
    {
      "cell_type": "code",
      "metadata": {
        "id": "aRghOPj9A1qo",
        "outputId": "5d5de9cf-699f-4715-f043-e39c6bb80b49",
        "colab": {
          "base_uri": "https://localhost:8080/",
          "height": 393
        }
      },
      "source": [
        "# membuat settingan plot\n",
        "plt.style.use('tableau-colorblind10') # mengatur tema plot\n",
        "rcParams['xtick.labelsize'] = 14 # mengatur ukuran label tick pada sb-x\n",
        "rcParams['ytick.labelsize'] = 14 # mengatur ukuran label tick pada sb-y\n",
        "\n",
        "# membuat bar plot\n",
        "df.plot(kind='bar', figsize=(7,5), color='royalblue')\n",
        "plt.title('Perbandingan nilai Formzhal\\n', fontsize=15, fontweight='bold')\n",
        "plt.xticks(rotation=0)\n",
        "plt.xlabel('Sumber', fontsize=14, fontweight='bold')\n",
        "plt.ylabel('Formzhal', fontsize=14, fontweight='bold')\n",
        "plt.legend('')\n",
        "\n",
        "plt.show()"
      ],
      "execution_count": 21,
      "outputs": [
        {
          "output_type": "display_data",
          "data": {
            "image/png": "[encoded data removed]",
            "text/plain": [
              "<Figure size 504x360 with 1 Axes>"
            ]
          },
          "metadata": {
            "tags": [],
            "needs_background": "light"
          }
        }
      ]
    },
    {
      "cell_type": "markdown",
      "metadata": {
        "id": "ZfHF315UIMwy"
      },
      "source": [
        "Jika telah selesai, silahkan di-download grafik yang telah dibuat"
      ]
    }
  ]
}