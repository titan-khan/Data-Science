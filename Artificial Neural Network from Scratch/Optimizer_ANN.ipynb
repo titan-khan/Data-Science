{
 "cells": [
  {
   "cell_type": "markdown",
   "metadata": {},
   "source": [
    "## Artificial Neural Network from Scratch\n",
    "Created by:\n",
    "<br> **Titis** Fikri Aji Kusuma\n",
    "<br> **Titan** Muslim Al-Khan\n",
    "\n",
    "<br> Reference:\n",
    "<br> Stefan J.  -  https://github.com/stefan-j/DeepRL/blob/master/NN.py\n",
    "<br> Syamsuddin, MProdi Matematika - FMIPA ITB"
   ]
  },
  {
   "cell_type": "markdown",
   "metadata": {},
   "source": [
    "<h3 style= \"color:red;font-family:verdana\"> GD Optimizer"
   ]
  },
  {
   "cell_type": "code",
   "execution_count": 1,
   "metadata": {},
   "outputs": [
    {
     "name": "stdout",
     "output_type": "stream",
     "text": [
      "Iterasi ke 0 loss: 0.250821\n",
      "Iterasi ke 250 loss: 0.269519\n",
      "Iterasi ke 500 loss: 0.000564\n",
      "Iterasi ke 750 loss: 0.000216\n",
      "Iterasi ke 1000 loss: 0.000132\n",
      "Iterasi ke 1250 loss: 0.000094\n",
      "Iterasi ke 1500 loss: 0.000073\n",
      "Iterasi ke 1750 loss: 0.000059\n",
      "Iterasi ke 2000 loss: 0.000050\n",
      "Iterasi ke 2250 loss: 0.000043\n",
      " \n",
      "Nilai prediksi vs nilai aktual : 0.0037 vs 0\n",
      "Nilai prediksi vs nilai aktual : 0.9943 vs 1\n",
      "Nilai prediksi vs nilai aktual : 0.9940 vs 1\n",
      "Nilai prediksi vs nilai aktual : 0.0063 vs 0\n",
      "\n",
      "Waktu yang diperlukan: 0:00:14.266816\n"
     ]
    }
   ],
   "source": [
    "# import library\n",
    "import NeuralNetwork as nn\n",
    "import autograd.numpy as np\n",
    "from autograd import grad\n",
    "from datetime import datetime\n",
    "\n",
    "X = np.array([[0,0], \n",
    "              [0,1], \n",
    "              [1,0], \n",
    "              [1,1]])\n",
    "y = np.array([[0], \n",
    "              [1], \n",
    "              [1], \n",
    "              [0]])\n",
    "\n",
    "Ni  = X.shape[1]  #Jumlah features (variables)\n",
    "Nh1 = 2           #Jumlah neurons di hidden layers pertama\n",
    "Nh2 = 3           #Jumlah neurons di hidden layers kedua\n",
    "Nh3 = 4           #Jumlah neurons di hidden layers ketiga\n",
    "No  = y.shape[1]  #Jumlah neurons di output layer\n",
    "\n",
    "layers = nn.create_input(Ni)                     #Input layer\n",
    "layers = nn.add_forward(layers, Nh1, nn.sigmoid)   #Hidden layer pertama\n",
    "layers = nn.add_forward(layers, Nh2, nn.sigmoid)   #Hidden layer kedua\n",
    "layers = nn.add_forward(layers, Nh3, nn.sigmoid)   #Hidden layer ketiga\n",
    "layers = nn.add_forward(layers, No,  nn.sigmoid)   #Output layer\n",
    "\n",
    "np.random.seed(2020)\n",
    "\n",
    "w      = nn.init_weights(layers)\n",
    "alpha  = 3\n",
    "bs     = 2\n",
    "grup   = int(len(X)/bs)\n",
    "epochs = 2500\n",
    "\n",
    "tic = datetime.now()\n",
    "\n",
    "losses_GD = []\n",
    "for epoch in range(0,epochs):\n",
    "\n",
    "    for item in np.array_split(list(zip(X, y)), grup):\n",
    "        Xs = [i[0] for i in item]\n",
    "        ys = [i[1] for i in item]\n",
    "        Xs = np.transpose(Xs)\n",
    "        ys = np.transpose(ys).reshape((1,-1))\n",
    "        c, w = nn.grad_descent(Xs, ys, nn.cost, layers, w, alpha)\n",
    "    losses_GD.append(c)\n",
    "\n",
    "    if epoch%(epochs/10) == 0:\n",
    "        print('Iterasi ke', epoch, 'loss: %7.6f' % c)\n",
    "\n",
    "print(\" \")\n",
    "yhat = nn.forward_pass(X.T, layers, w)\n",
    "for ypred, yasli in zip(yhat.T, y):\n",
    "    print('Nilai prediksi vs nilai aktual : %5.4f' % ypred,'vs %i' % yasli)\n",
    "    \n",
    "    \n",
    "toc = datetime.now()\n",
    "\n",
    "print(\"\")\n",
    "print(\"Waktu yang diperlukan:\", toc-tic)"
   ]
  },
  {
   "cell_type": "markdown",
   "metadata": {},
   "source": [
    "<h3 style= \"color:red;font-family:verdana\"> NAG Optimizer"
   ]
  },
  {
   "cell_type": "code",
   "execution_count": 2,
   "metadata": {},
   "outputs": [
    {
     "name": "stdout",
     "output_type": "stream",
     "text": [
      "======== NAG optimizer ========\n",
      "\n",
      "Iterasi ke 0 loss: 0.250236\n",
      "Iterasi ke 250 loss: 0.000146\n",
      "Iterasi ke 500 loss: 0.000059\n",
      "Iterasi ke 750 loss: 0.000036\n",
      "Iterasi ke 1000 loss: 0.000026\n",
      "Iterasi ke 1250 loss: 0.000020\n",
      "Iterasi ke 1500 loss: 0.000017\n",
      "Iterasi ke 1750 loss: 0.000014\n",
      "Iterasi ke 2000 loss: 0.000012\n",
      "Iterasi ke 2250 loss: 0.000011\n",
      " \n",
      "Nilai prediksi vs nilai aktual : 0.0028 vs 0\n",
      "Nilai prediksi vs nilai aktual : 0.9971 vs 1\n",
      "Nilai prediksi vs nilai aktual : 0.9970 vs 1\n",
      "Nilai prediksi vs nilai aktual : 0.0032 vs 0\n",
      "\n",
      "Waktu yang diperlukan: 0:00:55.051149\n"
     ]
    }
   ],
   "source": [
    "print(\"======== NAG optimizer ========\\n\")\n",
    "w      = nn.init_weights(layers)\n",
    "vw     = nn.init_vw(layers)\n",
    "gamma  = 0.99\n",
    "alpha  = 3\n",
    "bs     = 2\n",
    "grup   = int(len(X)/bs)\n",
    "epochs = 2500\n",
    "\n",
    "tic = datetime.now()\n",
    "vw_1 = 0\n",
    "vw_2 = 0\n",
    "\n",
    "losses_NAG = []\n",
    "for epoch in range(0,epochs):\n",
    "    \n",
    "    for i in range(0,len(vw)):\n",
    "        vw_1 = gamma * vw[i][0]\n",
    "        vw_2 = gamma * vw[i][0]\n",
    "        for item in np.array_split(list(zip(X, y)), grup):\n",
    "            Xs = [i[0] for i in item]\n",
    "            ys = [i[1] for i in item]\n",
    "            Xs = np.transpose(Xs)\n",
    "            ys = np.transpose(ys).reshape((1,-1))\n",
    "            \n",
    "            c, w = nn.NAG(Xs, ys, nn.cost, layers, w, vw_1, vw_2, vw, alpha, gamma)\n",
    "    losses_NAG.append(c)\n",
    "\n",
    "    if epoch%(epochs/10) == 0:\n",
    "        print('Iterasi ke', epoch, 'loss: %7.6f' % c)\n",
    "    #print('os loss', cost(nn.forward_pass(test_xs, layers, weights), test_ys ) )\n",
    "\n",
    "print(\" \")\n",
    "yhat = nn.forward_pass(X.T, layers, w)\n",
    "for ypred, yasli in zip(yhat.T, y):\n",
    "    print('Nilai prediksi vs nilai aktual : %5.4f' % ypred,'vs %i' % yasli)\n",
    "    \n",
    "    \n",
    "toc = datetime.now()\n",
    "\n",
    "print(\"\")\n",
    "print(\"Waktu yang diperlukan:\", toc-tic)"
   ]
  },
  {
   "cell_type": "markdown",
   "metadata": {},
   "source": [
    "<h3 style= \"color:red;font-family:verdana\"> ADAM Optimizer"
   ]
  },
  {
   "cell_type": "code",
   "execution_count": 8,
   "metadata": {},
   "outputs": [
    {
     "name": "stdout",
     "output_type": "stream",
     "text": [
      "======== ADAM optimizer ========\n",
      "\n",
      "Iterasi ke- 0 loss: 0.254478\n",
      "Iterasi ke- 250 loss: 0.000000\n",
      "Iterasi ke- 500 loss: 0.000000\n",
      "Iterasi ke- 750 loss: 0.000000\n",
      "Iterasi ke- 1000 loss: 0.000000\n",
      "Iterasi ke- 1250 loss: 0.000000\n",
      "Iterasi ke- 1500 loss: 0.000000\n",
      "Iterasi ke- 1750 loss: 0.000000\n",
      "Iterasi ke- 2000 loss: 0.000000\n",
      "Iterasi ke- 2250 loss: 0.000000\n",
      " \n",
      "Nilai prediksi vs nilai aktual : 0.0000 vs 0\n",
      "Nilai prediksi vs nilai aktual : 1.0000 vs 1\n",
      "Nilai prediksi vs nilai aktual : 1.0000 vs 1\n",
      "Nilai prediksi vs nilai aktual : 0.0000 vs 0\n",
      " \n",
      "Waktu yang diperlukan : 0:00:14.850849\n"
     ]
    }
   ],
   "source": [
    "print(\"======== ADAM optimizer ========\\n\")\n",
    "w = nn.init_weights(layers)\n",
    "Mw, Vw = nn.init_adam(layers)\n",
    "\n",
    "alpha = 0.1 \n",
    "bs = 2\n",
    "grup = int(len(X)/bs)\n",
    "epochs = 2500\n",
    "tic = datetime.now()\n",
    "\n",
    "losses_ADAM = []\n",
    "for epoch in range(0, epochs):\n",
    "    \n",
    "    for item in np.array_split(list(zip(X, y)), grup):\n",
    "        Xs = [i[0] for i in item]\n",
    "        ys = [i[1] for i in item]\n",
    "        \n",
    "        Xs = np.transpose(Xs)\n",
    "        ys = np.transpose(ys).reshape((1, -1))\n",
    "        \n",
    "        c, w, Mw, Vw = nn.ADAM(Xs, ys, nn.cost, layers, w, Mw, Vw, alpha)\n",
    "    losses_ADAM.append(c)\n",
    "        \n",
    "    if epoch%(epochs/10) == 0:\n",
    "        print('Iterasi ke-', epoch, 'loss: %7.6f' %c)\n",
    "        \n",
    "print(\" \")        \n",
    "yhat = nn.forward_pass(X.T, layers, w)\n",
    "for ypred, yasli in zip(yhat.T, y):\n",
    "    print('Nilai prediksi vs nilai aktual : %5.4f' % ypred, 'vs %i' % yasli)\n",
    "\n",
    "toc = datetime.now()\n",
    "\n",
    "print(\" \")\n",
    "print(\"Waktu yang diperlukan :\", toc-tic)"
   ]
  },
  {
   "cell_type": "markdown",
   "metadata": {},
   "source": [
    "<h3 style= \"color:red;font-family:verdana\"> RMSprop Optimizer"
   ]
  },
  {
   "cell_type": "code",
   "execution_count": 4,
   "metadata": {},
   "outputs": [
    {
     "name": "stdout",
     "output_type": "stream",
     "text": [
      "======== RMSprop optimizer ========\n",
      "\n",
      "Iterasi ke 0 loss: 0.258884\n",
      "Iterasi ke 250 loss: 0.000000\n",
      "Iterasi ke 500 loss: 0.000000\n",
      "Iterasi ke 750 loss: 0.000000\n",
      "Iterasi ke 1000 loss: 0.000000\n",
      "Iterasi ke 1250 loss: 0.000000\n",
      "Iterasi ke 1500 loss: 0.000000\n",
      "Iterasi ke 1750 loss: 0.000000\n",
      "Iterasi ke 2000 loss: 0.000000\n",
      "Iterasi ke 2250 loss: 0.000000\n",
      " \n",
      "Nilai prediksi vs nilai aktual : 0.0000 vs 0\n",
      "Nilai prediksi vs nilai aktual : 1.0000 vs 1\n",
      "Nilai prediksi vs nilai aktual : 1.0000 vs 1\n",
      "Nilai prediksi vs nilai aktual : 0.0000 vs 0\n",
      "\n",
      "Waktu yang diperlukan: 0:00:56.732245\n"
     ]
    }
   ],
   "source": [
    "print(\"======== RMSprop optimizer ========\\n\")\n",
    "w      = nn.init_weights(layers)\n",
    "vw     = nn.init_vw(layers)\n",
    "gamma  = 0.99\n",
    "alpha  = 0.1\n",
    "bs     = 2\n",
    "grup   = int(len(X)/bs)\n",
    "epochs = 2500\n",
    "\n",
    "tic = datetime.now()\n",
    "vw_1 = 0\n",
    "vw_2 = 0\n",
    "\n",
    "losses_RMS = []\n",
    "for epoch in range(0,epochs):\n",
    "    \n",
    "    for i in range(0,len(vw)):\n",
    "        for item in np.array_split(list(zip(X, y)), grup):\n",
    "            Xs = [i[0] for i in item]\n",
    "            ys = [i[1] for i in item]\n",
    "            Xs = np.transpose(Xs)\n",
    "            ys = np.transpose(ys).reshape((1,-1))\n",
    "            c, w = nn.RMS(Xs, ys, nn.cost, layers, w, vw_1, vw_2, vw, alpha, gamma)\n",
    "    losses_RMS.append(c)\n",
    "\n",
    "    if epoch%(epochs/10) == 0:\n",
    "        print('Iterasi ke', epoch, 'loss: %7.6f' % c)\n",
    "\n",
    "print(\" \")\n",
    "yhat = nn.forward_pass(X.T, layers, w)\n",
    "for ypred, yasli in zip(yhat.T, y):\n",
    "    print('Nilai prediksi vs nilai aktual : %5.4f' % ypred,'vs %i' % yasli)\n",
    "    \n",
    "    \n",
    "toc = datetime.now()\n",
    "\n",
    "print(\"\")\n",
    "print(\"Waktu yang diperlukan:\", toc-tic)"
   ]
  },
  {
   "cell_type": "code",
   "execution_count": 9,
   "metadata": {},
   "outputs": [
    {
     "data": {
      "image/png": "[encoded data removed]",
      "text/plain": [
       "<Figure size 432x288 with 1 Axes>"
      ]
     },
     "metadata": {
      "needs_background": "light"
     },
     "output_type": "display_data"
    }
   ],
   "source": [
    "import pandas as pd\n",
    "import matplotlib.pyplot as plt\n",
    "%matplotlib inline\n",
    "\n",
    "lgd = pd.DataFrame(losses_GD, columns=['GD'])\n",
    "lnag = pd.DataFrame(losses_NAG, columns=['NAG'])\n",
    "ladam = pd.DataFrame(losses_ADAM, columns=['ADAM'])\n",
    "lrms = pd.DataFrame(losses_RMS, columns=['RMSprop'])\n",
    "\n",
    "loss = pd.concat([lgd, lnag, ladam, lrms], axis=1)\n",
    "loss.plot()\n",
    "plt.title('Grafik Loss')\n",
    "plt.xlabel('Epochs')\n",
    "plt.ylabel('Loss')\n",
    "plt.legend()\n",
    "plt.show()"
   ]
  },
  {
   "cell_type": "code",
   "execution_count": 11,
   "metadata": {},
   "outputs": [
    {
     "data": {
      "text/html": [
       "<div>\n",
       "<style scoped>\n",
       "    .dataframe tbody tr th:only-of-type {\n",
       "        vertical-align: middle;\n",
       "    }\n",
       "\n",
       "    .dataframe tbody tr th {\n",
       "        vertical-align: top;\n",
       "    }\n",
       "\n",
       "    .dataframe thead th {\n",
       "        text-align: right;\n",
       "    }\n",
       "</style>\n",
       "<table border=\"1\" class=\"dataframe\">\n",
       "  <thead>\n",
       "    <tr style=\"text-align: right;\">\n",
       "      <th></th>\n",
       "      <th>GD</th>\n",
       "      <th>NAG</th>\n",
       "      <th>ADAM</th>\n",
       "      <th>RMSprop</th>\n",
       "    </tr>\n",
       "  </thead>\n",
       "  <tbody>\n",
       "    <tr>\n",
       "      <td>0</td>\n",
       "      <td>0.250821</td>\n",
       "      <td>0.250236</td>\n",
       "      <td>0.254478</td>\n",
       "      <td>0.258884</td>\n",
       "    </tr>\n",
       "    <tr>\n",
       "      <td>1</td>\n",
       "      <td>0.250521</td>\n",
       "      <td>0.250311</td>\n",
       "      <td>0.250561</td>\n",
       "      <td>0.267889</td>\n",
       "    </tr>\n",
       "    <tr>\n",
       "      <td>2</td>\n",
       "      <td>0.250527</td>\n",
       "      <td>0.250385</td>\n",
       "      <td>0.250759</td>\n",
       "      <td>0.275227</td>\n",
       "    </tr>\n",
       "    <tr>\n",
       "      <td>3</td>\n",
       "      <td>0.250534</td>\n",
       "      <td>0.250459</td>\n",
       "      <td>0.254774</td>\n",
       "      <td>0.276262</td>\n",
       "    </tr>\n",
       "    <tr>\n",
       "      <td>4</td>\n",
       "      <td>0.250541</td>\n",
       "      <td>0.250532</td>\n",
       "      <td>0.258329</td>\n",
       "      <td>0.276115</td>\n",
       "    </tr>\n",
       "  </tbody>\n",
       "</table>\n",
       "</div>"
      ],
      "text/plain": [
       "         GD       NAG      ADAM   RMSprop\n",
       "0  0.250821  0.250236  0.254478  0.258884\n",
       "1  0.250521  0.250311  0.250561  0.267889\n",
       "2  0.250527  0.250385  0.250759  0.275227\n",
       "3  0.250534  0.250459  0.254774  0.276262\n",
       "4  0.250541  0.250532  0.258329  0.276115"
      ]
     },
     "execution_count": 11,
     "metadata": {},
     "output_type": "execute_result"
    }
   ],
   "source": [
    "loss.head()"
   ]
  },
  {
   "cell_type": "code",
   "execution_count": null,
   "metadata": {},
   "outputs": [],
   "source": []
  }
 ],
 "metadata": {
  "kernelspec": {
   "display_name": "Python 3",
   "language": "python",
   "name": "python3"
  },
  "language_info": {
   "codemirror_mode": {
    "name": "ipython",
    "version": 3
   },
   "file_extension": ".py",
   "mimetype": "text/x-python",
   "name": "python",
   "nbconvert_exporter": "python",
   "pygments_lexer": "ipython3",
   "version": "3.7.6"
  }
 },
 "nbformat": 4,
 "nbformat_minor": 4
}
