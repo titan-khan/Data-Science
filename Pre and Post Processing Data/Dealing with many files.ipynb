{
 "cells": [
  {
   "cell_type": "markdown",
   "metadata": {},
   "source": [
    "## Intro\n",
    "In this notebook, I'm dealing with many files. Each file consisting spatial data of significant wave height (covering Indonesia region), in one time (monthly mean), from 1980 to 2019. My objective is to analyze how significant wave height changes over time. So, before doing that, I should group all the files, and storing them in a list.\n",
    "\n",
    "But, I can't group all the files with just looping and storing it in a list!. Because the files not in the correct order, as you can see in the image below. \n",
    "\n",
    "![](f3.PNG)"
   ]
  },
  {
   "cell_type": "markdown",
   "metadata": {},
   "source": [
    "### Import library"
   ]
  },
  {
   "cell_type": "code",
   "execution_count": 12,
   "metadata": {},
   "outputs": [],
   "source": [
    "import pandas as pd\n",
    "import glob\n",
    "import re # Regex: used for manipulating text"
   ]
  },
  {
   "cell_type": "markdown",
   "metadata": {},
   "source": [
    "### load all files using .glob"
   ]
  },
  {
   "cell_type": "code",
   "execution_count": 13,
   "metadata": {},
   "outputs": [
    {
     "name": "stdout",
     "output_type": "stream",
     "text": [
      "There are 480 files\n"
     ]
    }
   ],
   "source": [
    "my_files = [] \n",
    "for each_file in glob.glob('*.nc'):\n",
    "   my_files.append(each_file)\n",
    "print(\"There are \" +str(len(my_files)) +\" files\")"
   ]
  },
  {
   "cell_type": "code",
   "execution_count": 14,
   "metadata": {},
   "outputs": [
    {
     "data": {
      "text/html": [
       "<div>\n",
       "<style scoped>\n",
       "    .dataframe tbody tr th:only-of-type {\n",
       "        vertical-align: middle;\n",
       "    }\n",
       "\n",
       "    .dataframe tbody tr th {\n",
       "        vertical-align: top;\n",
       "    }\n",
       "\n",
       "    .dataframe thead th {\n",
       "        text-align: right;\n",
       "    }\n",
       "</style>\n",
       "<table border=\"1\" class=\"dataframe\">\n",
       "  <thead>\n",
       "    <tr style=\"text-align: right;\">\n",
       "      <th></th>\n",
       "      <th>file name</th>\n",
       "    </tr>\n",
       "  </thead>\n",
       "  <tbody>\n",
       "    <tr>\n",
       "      <th>0</th>\n",
       "      <td>monthly_mean_wave_ERA5_01_1980.nc</td>\n",
       "    </tr>\n",
       "    <tr>\n",
       "      <th>1</th>\n",
       "      <td>monthly_mean_wave_ERA5_01_1981.nc</td>\n",
       "    </tr>\n",
       "    <tr>\n",
       "      <th>2</th>\n",
       "      <td>monthly_mean_wave_ERA5_01_1982.nc</td>\n",
       "    </tr>\n",
       "    <tr>\n",
       "      <th>3</th>\n",
       "      <td>monthly_mean_wave_ERA5_01_1983.nc</td>\n",
       "    </tr>\n",
       "    <tr>\n",
       "      <th>4</th>\n",
       "      <td>monthly_mean_wave_ERA5_01_1984.nc</td>\n",
       "    </tr>\n",
       "    <tr>\n",
       "      <th>...</th>\n",
       "      <td>...</td>\n",
       "    </tr>\n",
       "    <tr>\n",
       "      <th>475</th>\n",
       "      <td>monthly_mean_wave_ERA5_12_2015.nc</td>\n",
       "    </tr>\n",
       "    <tr>\n",
       "      <th>476</th>\n",
       "      <td>monthly_mean_wave_ERA5_12_2016.nc</td>\n",
       "    </tr>\n",
       "    <tr>\n",
       "      <th>477</th>\n",
       "      <td>monthly_mean_wave_ERA5_12_2017.nc</td>\n",
       "    </tr>\n",
       "    <tr>\n",
       "      <th>478</th>\n",
       "      <td>monthly_mean_wave_ERA5_12_2018.nc</td>\n",
       "    </tr>\n",
       "    <tr>\n",
       "      <th>479</th>\n",
       "      <td>monthly_mean_wave_ERA5_12_2019.nc</td>\n",
       "    </tr>\n",
       "  </tbody>\n",
       "</table>\n",
       "<p>480 rows × 1 columns</p>\n",
       "</div>"
      ],
      "text/plain": [
       "                             file name\n",
       "0    monthly_mean_wave_ERA5_01_1980.nc\n",
       "1    monthly_mean_wave_ERA5_01_1981.nc\n",
       "2    monthly_mean_wave_ERA5_01_1982.nc\n",
       "3    monthly_mean_wave_ERA5_01_1983.nc\n",
       "4    monthly_mean_wave_ERA5_01_1984.nc\n",
       "..                                 ...\n",
       "475  monthly_mean_wave_ERA5_12_2015.nc\n",
       "476  monthly_mean_wave_ERA5_12_2016.nc\n",
       "477  monthly_mean_wave_ERA5_12_2017.nc\n",
       "478  monthly_mean_wave_ERA5_12_2018.nc\n",
       "479  monthly_mean_wave_ERA5_12_2019.nc\n",
       "\n",
       "[480 rows x 1 columns]"
      ]
     },
     "execution_count": 14,
     "metadata": {},
     "output_type": "execute_result"
    }
   ],
   "source": [
    "file_raw = pd.DataFrame(my_files, columns=['file name'])\n",
    "file_raw"
   ]
  },
  {
   "cell_type": "markdown",
   "metadata": {},
   "source": [
    "As you can see in table above, the files not arranged in the right order. So, to solve this issue, we can doing by manipulating file name, and sort them again into desired format."
   ]
  },
  {
   "cell_type": "code",
   "execution_count": 17,
   "metadata": {},
   "outputs": [],
   "source": [
    "# manipulating and sorting file name\n",
    "\n",
    "def sort_file_name():\n",
    "    \n",
    "    # define file name\n",
    "    file_name = \"monthly_mean_wave_ERA5_01_1980.nc\" #initiating file\n",
    "    \n",
    "    file_store = []\n",
    "    \n",
    "    for yyyy in range(1980, 2020): \n",
    "        \n",
    "        yyyy = str(yyyy)\n",
    "        file_name = re.sub(r\"\\d{4}\", yyyy, file_name) #for manipulating year\n",
    "        for mm in range(1, 13):\n",
    "            \n",
    "            if mm < 10:\n",
    "                mm = str(mm).zfill(2) + \"_\"# fill zero at the beginning of the string\n",
    "            else:\n",
    "                mm = str(mm) + \"_\"\n",
    "                \n",
    "            file_name = re.sub(r\"\\d{2}\\_\", mm, file_name) #for manipulating month\n",
    "            file_store.append(file_name)\n",
    "      \n",
    "    return file_store"
   ]
  },
  {
   "cell_type": "code",
   "execution_count": 18,
   "metadata": {},
   "outputs": [
    {
     "data": {
      "text/html": [
       "<div>\n",
       "<style scoped>\n",
       "    .dataframe tbody tr th:only-of-type {\n",
       "        vertical-align: middle;\n",
       "    }\n",
       "\n",
       "    .dataframe tbody tr th {\n",
       "        vertical-align: top;\n",
       "    }\n",
       "\n",
       "    .dataframe thead th {\n",
       "        text-align: right;\n",
       "    }\n",
       "</style>\n",
       "<table border=\"1\" class=\"dataframe\">\n",
       "  <thead>\n",
       "    <tr style=\"text-align: right;\">\n",
       "      <th></th>\n",
       "      <th>file name</th>\n",
       "    </tr>\n",
       "  </thead>\n",
       "  <tbody>\n",
       "    <tr>\n",
       "      <th>0</th>\n",
       "      <td>monthly_mean_wave_ERA5_01_1980.nc</td>\n",
       "    </tr>\n",
       "    <tr>\n",
       "      <th>1</th>\n",
       "      <td>monthly_mean_wave_ERA5_02_1980.nc</td>\n",
       "    </tr>\n",
       "    <tr>\n",
       "      <th>2</th>\n",
       "      <td>monthly_mean_wave_ERA5_03_1980.nc</td>\n",
       "    </tr>\n",
       "    <tr>\n",
       "      <th>3</th>\n",
       "      <td>monthly_mean_wave_ERA5_04_1980.nc</td>\n",
       "    </tr>\n",
       "    <tr>\n",
       "      <th>4</th>\n",
       "      <td>monthly_mean_wave_ERA5_05_1980.nc</td>\n",
       "    </tr>\n",
       "    <tr>\n",
       "      <th>...</th>\n",
       "      <td>...</td>\n",
       "    </tr>\n",
       "    <tr>\n",
       "      <th>475</th>\n",
       "      <td>monthly_mean_wave_ERA5_08_2019.nc</td>\n",
       "    </tr>\n",
       "    <tr>\n",
       "      <th>476</th>\n",
       "      <td>monthly_mean_wave_ERA5_09_2019.nc</td>\n",
       "    </tr>\n",
       "    <tr>\n",
       "      <th>477</th>\n",
       "      <td>monthly_mean_wave_ERA5_10_2019.nc</td>\n",
       "    </tr>\n",
       "    <tr>\n",
       "      <th>478</th>\n",
       "      <td>monthly_mean_wave_ERA5_11_2019.nc</td>\n",
       "    </tr>\n",
       "    <tr>\n",
       "      <th>479</th>\n",
       "      <td>monthly_mean_wave_ERA5_12_2019.nc</td>\n",
       "    </tr>\n",
       "  </tbody>\n",
       "</table>\n",
       "<p>480 rows × 1 columns</p>\n",
       "</div>"
      ],
      "text/plain": [
       "                             file name\n",
       "0    monthly_mean_wave_ERA5_01_1980.nc\n",
       "1    monthly_mean_wave_ERA5_02_1980.nc\n",
       "2    monthly_mean_wave_ERA5_03_1980.nc\n",
       "3    monthly_mean_wave_ERA5_04_1980.nc\n",
       "4    monthly_mean_wave_ERA5_05_1980.nc\n",
       "..                                 ...\n",
       "475  monthly_mean_wave_ERA5_08_2019.nc\n",
       "476  monthly_mean_wave_ERA5_09_2019.nc\n",
       "477  monthly_mean_wave_ERA5_10_2019.nc\n",
       "478  monthly_mean_wave_ERA5_11_2019.nc\n",
       "479  monthly_mean_wave_ERA5_12_2019.nc\n",
       "\n",
       "[480 rows x 1 columns]"
      ]
     },
     "execution_count": 18,
     "metadata": {},
     "output_type": "execute_result"
    }
   ],
   "source": [
    "ordered_file = pd.DataFrame(sort_file_name(), columns=['file name'])\n",
    "ordered_file                            "
   ]
  },
  {
   "cell_type": "markdown",
   "metadata": {},
   "source": [
    "Finally, as you can see above, all files have been in correct order."
   ]
  },
  {
   "cell_type": "code",
   "execution_count": null,
   "metadata": {},
   "outputs": [],
   "source": []
  }
 ],
 "metadata": {
  "kernelspec": {
   "display_name": "Python 3",
   "language": "python",
   "name": "python3"
  },
  "language_info": {
   "codemirror_mode": {
    "name": "ipython",
    "version": 3
   },
   "file_extension": ".py",
   "mimetype": "text/x-python",
   "name": "python",
   "nbconvert_exporter": "python",
   "pygments_lexer": "ipython3",
   "version": "3.7.6"
  }
 },
 "nbformat": 4,
 "nbformat_minor": 4
}
