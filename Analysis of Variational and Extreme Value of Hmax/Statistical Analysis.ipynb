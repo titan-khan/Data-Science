{
 "cells": [
  {
   "cell_type": "markdown",
   "metadata": {
    "jupyter": {
     "outputs_hidden": false
    }
   },
   "source": [
    "### Plot Bar Return Value dan Return Period"
   ]
  },
  {
   "cell_type": "code",
   "execution_count": 14,
   "metadata": {},
   "outputs": [
    {
     "data": {
      "text/html": [
       "<div>\n",
       "<style scoped>\n",
       "    .dataframe tbody tr th:only-of-type {\n",
       "        vertical-align: middle;\n",
       "    }\n",
       "\n",
       "    .dataframe tbody tr th {\n",
       "        vertical-align: top;\n",
       "    }\n",
       "\n",
       "    .dataframe thead th {\n",
       "        text-align: right;\n",
       "    }\n",
       "</style>\n",
       "<table border=\"1\" class=\"dataframe\">\n",
       "  <thead>\n",
       "    <tr style=\"text-align: right;\">\n",
       "      <th></th>\n",
       "      <th>cilacap</th>\n",
       "      <th>pangandaran</th>\n",
       "      <th>indramayu</th>\n",
       "      <th>karangantu</th>\n",
       "    </tr>\n",
       "    <tr>\n",
       "      <th>return period (yr)</th>\n",
       "      <th></th>\n",
       "      <th></th>\n",
       "      <th></th>\n",
       "      <th></th>\n",
       "    </tr>\n",
       "  </thead>\n",
       "  <tbody>\n",
       "    <tr>\n",
       "      <th>2</th>\n",
       "      <td>8.22</td>\n",
       "      <td>8.22</td>\n",
       "      <td>3.03</td>\n",
       "      <td>3.24</td>\n",
       "    </tr>\n",
       "    <tr>\n",
       "      <th>5</th>\n",
       "      <td>8.74</td>\n",
       "      <td>8.74</td>\n",
       "      <td>3.19</td>\n",
       "      <td>3.45</td>\n",
       "    </tr>\n",
       "    <tr>\n",
       "      <th>10</th>\n",
       "      <td>9.14</td>\n",
       "      <td>9.14</td>\n",
       "      <td>3.30</td>\n",
       "      <td>3.60</td>\n",
       "    </tr>\n",
       "    <tr>\n",
       "      <th>20</th>\n",
       "      <td>9.53</td>\n",
       "      <td>9.53</td>\n",
       "      <td>3.40</td>\n",
       "      <td>3.74</td>\n",
       "    </tr>\n",
       "    <tr>\n",
       "      <th>50</th>\n",
       "      <td>10.04</td>\n",
       "      <td>10.04</td>\n",
       "      <td>3.52</td>\n",
       "      <td>3.92</td>\n",
       "    </tr>\n",
       "    <tr>\n",
       "      <th>100</th>\n",
       "      <td>10.42</td>\n",
       "      <td>10.42</td>\n",
       "      <td>3.60</td>\n",
       "      <td>4.05</td>\n",
       "    </tr>\n",
       "  </tbody>\n",
       "</table>\n",
       "</div>"
      ],
      "text/plain": [
       "                    cilacap  pangandaran  indramayu  karangantu\n",
       "return period (yr)                                             \n",
       "2                      8.22         8.22       3.03        3.24\n",
       "5                      8.74         8.74       3.19        3.45\n",
       "10                     9.14         9.14       3.30        3.60\n",
       "20                     9.53         9.53       3.40        3.74\n",
       "50                    10.04        10.04       3.52        3.92\n",
       "100                   10.42        10.42       3.60        4.05"
      ]
     },
     "execution_count": 14,
     "metadata": {},
     "output_type": "execute_result"
    }
   ],
   "source": [
    "import pandas as pd\n",
    "import matplotlib.pyplot as plt\n",
    "\n",
    "return_val_pd = pd.DataFrame({'return period (yr)':['100','50','20','10','5','2'],\n",
    "                              'cilacap':[10.42, 10.04, 9.53, 9.14, 8.74, 8.22],\n",
    "                              'pangandaran':[10.42, 10.04, 9.53, 9.14, 8.74, 8.22],\n",
    "                              'indramayu':[3.60, 3.52, 3.40, 3.30, 3.19, 3.03],\n",
    "                              'karangantu':[4.05, 3.92, 3.74, 3.60, 3.45, 3.24]\n",
    "})\n",
    "\n",
    "return_val_pd = return_val_pd.set_index('return period (yr)')\n",
    "\n",
    "return_val_pd = return_val_pd.sort_values('cilacap')\n",
    "return_val_pd"
   ]
  },
  {
   "cell_type": "markdown",
   "metadata": {},
   "source": [
    "### Bar plot"
   ]
  },
  {
   "cell_type": "code",
   "execution_count": 16,
   "metadata": {},
   "outputs": [],
   "source": [
    "import matplotlib.pyplot as plt\n",
    "import matplotlib.dates as mdates\n",
    "from matplotlib import rcParams\n",
    "rcParams[\"font.weight\"] = \"bold\"\n",
    "rcParams[\"axes.labelweight\"] = \"bold\"\n",
    "\n",
    "rcParams['xtick.labelsize'] = 16\n",
    "rcParams['ytick.labelsize'] = 16\n",
    "rcParams['axes.labelweight'] = 'bold'\n",
    "rcParams['text.latex.preamble'] = [r'\\usepackage{sfmath} \\boldmath']\n",
    "\n",
    "rcParams['legend.fontsize'] = 16\n",
    "\n",
    "rcParams['mathtext.fontset'] = 'custom'\n",
    "rcParams['mathtext.it'] = 'STIXGeneral:italic'\n",
    "rcParams['mathtext.bf'] = 'STIXGeneral:italic:bold'"
   ]
  },
  {
   "cell_type": "code",
   "execution_count": 29,
   "metadata": {},
   "outputs": [
    {
     "data": {
      "text/plain": [
       "Text(0, 0.5, 'Return Value [m]')"
      ]
     },
     "execution_count": 29,
     "metadata": {},
     "output_type": "execute_result"
    },
    {
     "data": {
      "image/png": "[encoded data removed]",
      "text/plain": [
       "<Figure size 864x360 with 1 Axes>"
      ]
     },
     "metadata": {},
     "output_type": "display_data"
    }
   ],
   "source": [
    "import matplotlib\n",
    "\n",
    "matplotlib.style.use('seaborn-whitegrid')\n",
    "return_val_pd[['indramayu','karangantu','pangandaran','cilacap']].plot(kind='bar',\n",
    "                                                                       color=['green','black','blue','red'],\n",
    "                                                                       figsize=(12,5)\n",
    ")\n",
    "plt.ylim(0,15)\n",
    "plt.xticks(rotation=0)\n",
    "plt.xlabel('Return Period [yr]', fontsize=16)\n",
    "plt.ylabel('Return Value [m]', fontsize=16)"
   ]
  },
  {
   "cell_type": "markdown",
   "metadata": {},
   "source": [
    "### t-test\n",
    "In previous analysis, coefficient of correlation between Hmax and Wind speed was calculated for each location, that is, \n",
    "- Cilacap: 0.432282\n",
    "- Pangandaran: 0.432282\n",
    "- Indramayu: 0.826357\n",
    "- Pelabuhan Karangantu: 0.606209\n",
    "\n",
    "To make the results more trustable, statistical **t-test** will be performed, as you can see in cell block below."
   ]
  },
  {
   "cell_type": "code",
   "execution_count": 3,
   "metadata": {},
   "outputs": [
    {
     "name": "stdout",
     "output_type": "stream",
     "text": [
      "(sampel, alpha) 4384 , 0.05\n",
      "Cilacap: 31.733848178135208 1.6452014346415764\n",
      "Pangandaran: 31.733848178135208 1.6452014346415764\n",
      "Indramayu: 97.13649304864056 1.6452014346415764\n",
      "Karangantu: 50.45737416015194 1.6452014346415764\n"
     ]
    }
   ],
   "source": [
    "from scipy.stats import t\n",
    "import math\n",
    "#n = len(hs_test) # Jumlah sampel\n",
    "n = 4384\n",
    "alpha = 0.05 # one tailed test\n",
    "df = n - 2 # degree of freedom\n",
    "#t_hit = (corr_test[0,]*math.sqrt(n-2)) / (math.sqrt(1 - corr_test[0,]**2))\n",
    "t_hit_cp = (0.432282*math.sqrt(n-2)) / (math.sqrt(1 - 0.432282**2))\n",
    "t_hit_pn = (0.432282*math.sqrt(n-2)) / (math.sqrt(1 - 0.432282**2))\n",
    "t_hit_in = (0.826357*math.sqrt(n-2)) / (math.sqrt(1 - 0.826357**2))\n",
    "t_hit_kt = (0.606209*math.sqrt(n-2)) / (math.sqrt(1 - 0.606209**2))\n",
    "\n",
    "t_crit = t.ppf(1 - alpha, df)\n",
    "print('(sampel, alpha)',n,',',alpha)\n",
    "print('Cilacap:',t_hit_cp, t_crit)\n",
    "print('Pangandaran:',t_hit_pn, t_crit)\n",
    "print('Indramayu:',t_hit_in, t_crit)\n",
    "print('Karangantu:',t_hit_kt, t_crit)"
   ]
  },
  {
   "cell_type": "code",
   "execution_count": null,
   "metadata": {},
   "outputs": [],
   "source": []
  }
 ],
 "metadata": {
  "kernelspec": {
   "display_name": "Python 3",
   "language": "python",
   "name": "python3"
  },
  "language_info": {
   "codemirror_mode": {
    "name": "ipython",
    "version": 3
   },
   "file_extension": ".py",
   "mimetype": "text/x-python",
   "name": "python",
   "nbconvert_exporter": "python",
   "pygments_lexer": "ipython3",
   "version": "3.7.6"
  }
 },
 "nbformat": 4,
 "nbformat_minor": 4
}
